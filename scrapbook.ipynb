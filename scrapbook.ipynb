{
 "cells": [
  {
   "cell_type": "code",
   "execution_count": 1,
   "metadata": {},
   "outputs": [],
   "source": [
    "import scrapbook as sb"
   ]
  },
  {
   "cell_type": "code",
   "execution_count": 12,
   "metadata": {},
   "outputs": [
    {
     "output_type": "stream",
     "name": "stdout",
     "text": [
      "#### CODE ####\nimport pandas as pd\nimport importlib\n\nimport Lib\nLib = importlib.reload(Lib)\n\nfrom Lib import tm\ntm = importlib.reload(tm)\n#### CODE ####\nx = Lib.A()\nx.a()\n#### CODE ####\nx.B\n#### CODE ####\nLib.A().B\n#### CODE ####\ntm.test_func()\n#### CODE ####\nfor i in range(0, 10):\n    print(i)\n#### markdown ####\n{'source': '# abc', 'cell_type': 'markdown', 'metadata': {}}\n"
     ]
    }
   ],
   "source": [
    "nb = sb.read_notebook('main.ipynb')\n",
    "nb.cells # The cells from the notebook\n",
    "#nb.metadata\n",
    "# nb.nbformat\n",
    "# nb.nbformat_minor\n",
    "\n",
    "for cell in nb.cells:\n",
    "    cell_type = cell['cell_type']\n",
    "    if cell_type == 'code':\n",
    "        print(f'#### CODE ####')\n",
    "        for l in cell['source'].splitlines():\n",
    "            print(f'{l}')\n",
    "    else:\n",
    "        print(f'#### {cell_type} ####')\n",
    "        print(cell)"
   ]
  },
  {
   "cell_type": "code",
   "execution_count": 9,
   "metadata": {},
   "outputs": [
    {
     "output_type": "execute_result",
     "data": {
      "text/plain": [
       "{'cells': [{'cell_type': 'code',\n",
       "   'execution_count': 1,\n",
       "   'metadata': {},\n",
       "   'outputs': [],\n",
       "   'source': 'import pandas as pd\\nimport importlib\\n\\nimport Lib\\nLib = importlib.reload(Lib)\\n\\nfrom Lib import tm\\ntm = importlib.reload(tm)'},\n",
       "  {'cell_type': 'code',\n",
       "   'execution_count': None,\n",
       "   'metadata': {},\n",
       "   'outputs': [],\n",
       "   'source': ''},\n",
       "  {'cell_type': 'code',\n",
       "   'execution_count': 2,\n",
       "   'metadata': {},\n",
       "   'outputs': [{'output_type': 'stream', 'name': 'stdout', 'text': 'a\\n'}],\n",
       "   'source': 'x = Lib.A()\\nx.a()'},\n",
       "  {'cell_type': 'code',\n",
       "   'execution_count': 3,\n",
       "   'metadata': {},\n",
       "   'outputs': [{'output_type': 'execute_result',\n",
       "     'data': {'text/plain': \"'Abc'\"},\n",
       "     'metadata': {},\n",
       "     'execution_count': 3}],\n",
       "   'source': 'x.B'},\n",
       "  {'cell_type': 'code',\n",
       "   'execution_count': 4,\n",
       "   'metadata': {},\n",
       "   'outputs': [{'output_type': 'execute_result',\n",
       "     'data': {'text/plain': \"'Abc'\"},\n",
       "     'metadata': {},\n",
       "     'execution_count': 4}],\n",
       "   'source': 'Lib.A().B'},\n",
       "  {'cell_type': 'code',\n",
       "   'execution_count': 5,\n",
       "   'metadata': {},\n",
       "   'outputs': [{'output_type': 'stream',\n",
       "     'name': 'stdout',\n",
       "     'text': 'hello world\\n'}],\n",
       "   'source': 'tm.test_func()'}],\n",
       " 'metadata': {'kernelspec': {'name': 'Python 3.8.6 64-bit',\n",
       "   'display_name': 'Python 3.8.6 64-bit',\n",
       "   'metadata': {'interpreter': {'hash': '1ee38ef4a5a9feb55287fd749643f13d043cb0a7addaab2a9c224cbe137c0062'}}},\n",
       "  'language_info': {'codemirror_mode': {'name': 'ipython', 'version': 3},\n",
       "   'file_extension': '.py',\n",
       "   'mimetype': 'text/x-python',\n",
       "   'name': 'python',\n",
       "   'nbconvert_exporter': 'python',\n",
       "   'pygments_lexer': 'ipython3',\n",
       "   'version': '3.8.6-final'}},\n",
       " 'nbformat': 4,\n",
       " 'nbformat_minor': 4}"
      ]
     },
     "metadata": {},
     "execution_count": 9
    }
   ],
   "source": [
    "{\n",
    "    'cells' : nb.cells,\n",
    "    'metadata' : nb.metadata,\n",
    "    'nbformat' : nb.nbformat,\n",
    "    'nbformat_minor' : nb.nbformat_minor,\n",
    "}"
   ]
  }
 ],
 "metadata": {
  "kernelspec": {
   "name": "Python 3.8.6 64-bit",
   "display_name": "Python 3.8.6 64-bit",
   "metadata": {
    "interpreter": {
     "hash": "1ee38ef4a5a9feb55287fd749643f13d043cb0a7addaab2a9c224cbe137c0062"
    }
   }
  },
  "language_info": {
   "codemirror_mode": {
    "name": "ipython",
    "version": 3
   },
   "file_extension": ".py",
   "mimetype": "text/x-python",
   "name": "python",
   "nbconvert_exporter": "python",
   "pygments_lexer": "ipython3",
   "version": "3.8.6-final"
  }
 },
 "nbformat": 4,
 "nbformat_minor": 4
}