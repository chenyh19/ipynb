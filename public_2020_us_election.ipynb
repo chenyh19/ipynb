{
 "cells": [
  {
   "cell_type": "code",
   "execution_count": 1,
   "metadata": {},
   "outputs": [],
   "source": [
    "import pandas as pd\n",
    "import numpy as np\n",
    "import pickle"
   ]
  },
  {
   "cell_type": "code",
   "execution_count": 2,
   "metadata": {},
   "outputs": [
    {
     "data": {
      "text/plain": [
       "'Alabama, Alaska, Arizona, Arkansas, California, Colorado, Connecticut, Delaware, Florida, Georgia, Hawaii, Idaho, Illinois, Indiana, Iowa, Kansas, Kentucky, Louisiana, Maine, Maryland, Massachusetts, Michigan, Minnesota, Mississippi, Missouri, Montana, Nebraska, Nevada, New-Hampshire, New-Jersey, New-Mexico, New-York, North-Carolina, North-Dakota, Ohio, Oklahoma, Oregon, Pennsylvania, Rhode-Island, South-Carolina, South-Dakota, Tennessee, Texas, Utah, Vermont, Virginia, Washington, West-Virginia, Wisconsin, Wyoming'"
      ]
     },
     "execution_count": 2,
     "metadata": {},
     "output_type": "execute_result"
    }
   ],
   "source": [
    "dfs = pd.read_html('https://en.wikipedia.org/wiki/List_of_states_and_territories_of_the_United_States')\n",
    "states = [s.replace('[E]', '').replace(' ', '-') for s in list(\n",
    "    dfs[0]['Flag, name andpostal abbreviation[12]']['Flag, name andpostal abbreviation[12]']\n",
    ")]\n",
    "', '.join(states)"
   ]
  },
  {
   "cell_type": "code",
   "execution_count": 3,
   "metadata": {},
   "outputs": [],
   "source": [
    "def load_state(state):\n",
    "    print(f'loading data for state {state}')\n",
    "    page = pd.read_html(f'https://www.nytimes.com/interactive/2020/11/03/us/elections/results-{state}.html')\n",
    "    df = page[1]\n",
    "    df = pd.DataFrame(df.iloc[:-1]) # last row is 'view results'\n",
    "    df['Total votes'] = df['Total votes'].astype(int)\n",
    "    df['State'] = state\n",
    "    return df.sort_values('Total votes', ascending = False)"
   ]
  },
  {
   "cell_type": "code",
   "execution_count": 4,
   "metadata": {
    "scrolled": true
   },
   "outputs": [
    {
     "name": "stdout",
     "output_type": "stream",
     "text": [
      "Total: 4623\n"
     ]
    },
    {
     "data": {
      "text/html": [
       "<div>\n",
       "<style scoped>\n",
       "    .dataframe tbody tr th:only-of-type {\n",
       "        vertical-align: middle;\n",
       "    }\n",
       "\n",
       "    .dataframe tbody tr th {\n",
       "        vertical-align: top;\n",
       "    }\n",
       "\n",
       "    .dataframe thead th {\n",
       "        text-align: right;\n",
       "    }\n",
       "</style>\n",
       "<table border=\"1\" class=\"dataframe\">\n",
       "  <thead>\n",
       "    <tr style=\"text-align: right;\">\n",
       "      <th></th>\n",
       "      <th>County</th>\n",
       "      <th>Margin</th>\n",
       "      <th>2016 margin</th>\n",
       "      <th>Est. votes reported</th>\n",
       "      <th>Est. votes reported.1</th>\n",
       "      <th>Total votes</th>\n",
       "      <th>Absentee</th>\n",
       "      <th>State</th>\n",
       "      <th>District</th>\n",
       "      <th>Town</th>\n",
       "      <th>Parish</th>\n",
       "    </tr>\n",
       "  </thead>\n",
       "  <tbody>\n",
       "    <tr>\n",
       "      <th>4</th>\n",
       "      <td>Jefferson</td>\n",
       "      <td>Biden +13</td>\n",
       "      <td>D+7.3</td>\n",
       "      <td>&gt;98%</td>\n",
       "      <td>NaN</td>\n",
       "      <td>324675</td>\n",
       "      <td>—</td>\n",
       "      <td>alabama</td>\n",
       "      <td>NaN</td>\n",
       "      <td>NaN</td>\n",
       "      <td>NaN</td>\n",
       "    </tr>\n",
       "    <tr>\n",
       "      <th>5</th>\n",
       "      <td>Madison</td>\n",
       "      <td>Trump +8</td>\n",
       "      <td>R+16.3</td>\n",
       "      <td>&gt;98%</td>\n",
       "      <td>NaN</td>\n",
       "      <td>193955</td>\n",
       "      <td>—</td>\n",
       "      <td>alabama</td>\n",
       "      <td>NaN</td>\n",
       "      <td>NaN</td>\n",
       "      <td>NaN</td>\n",
       "    </tr>\n",
       "    <tr>\n",
       "      <th>0</th>\n",
       "      <td>Mobile</td>\n",
       "      <td>Trump +12</td>\n",
       "      <td>R+13.3</td>\n",
       "      <td>93%</td>\n",
       "      <td>NaN</td>\n",
       "      <td>181783</td>\n",
       "      <td>—</td>\n",
       "      <td>alabama</td>\n",
       "      <td>NaN</td>\n",
       "      <td>NaN</td>\n",
       "      <td>NaN</td>\n",
       "    </tr>\n",
       "    <tr>\n",
       "      <th>6</th>\n",
       "      <td>Shelby</td>\n",
       "      <td>Trump +41</td>\n",
       "      <td>R+49.4</td>\n",
       "      <td>&gt;98%</td>\n",
       "      <td>NaN</td>\n",
       "      <td>114439</td>\n",
       "      <td>—</td>\n",
       "      <td>alabama</td>\n",
       "      <td>NaN</td>\n",
       "      <td>NaN</td>\n",
       "      <td>NaN</td>\n",
       "    </tr>\n",
       "    <tr>\n",
       "      <th>7</th>\n",
       "      <td>Baldwin</td>\n",
       "      <td>Trump +54</td>\n",
       "      <td>R+57.2</td>\n",
       "      <td>&gt;98%</td>\n",
       "      <td>NaN</td>\n",
       "      <td>108945</td>\n",
       "      <td>—</td>\n",
       "      <td>alabama</td>\n",
       "      <td>NaN</td>\n",
       "      <td>NaN</td>\n",
       "      <td>NaN</td>\n",
       "    </tr>\n",
       "  </tbody>\n",
       "</table>\n",
       "</div>"
      ],
      "text/plain": [
       "      County     Margin 2016 margin Est. votes reported Est. votes reported.1  \\\n",
       "4  Jefferson  Biden +13       D+7.3                >98%                   NaN   \n",
       "5    Madison   Trump +8      R+16.3                >98%                   NaN   \n",
       "0     Mobile  Trump +12      R+13.3                 93%                   NaN   \n",
       "6     Shelby  Trump +41      R+49.4                >98%                   NaN   \n",
       "7    Baldwin  Trump +54      R+57.2                >98%                   NaN   \n",
       "\n",
       "   Total votes Absentee    State District Town Parish  \n",
       "4       324675        —  alabama      NaN  NaN    NaN  \n",
       "5       193955        —  alabama      NaN  NaN    NaN  \n",
       "0       181783        —  alabama      NaN  NaN    NaN  \n",
       "6       114439        —  alabama      NaN  NaN    NaN  \n",
       "7       108945        —  alabama      NaN  NaN    NaN  "
      ]
     },
     "metadata": {},
     "output_type": "display_data"
    }
   ],
   "source": [
    "try:\n",
    "    us_df = pd.read_pickle('./2020_election_data.pickle')\n",
    "except:\n",
    "    result = {}\n",
    "    for s in states:\n",
    "        s = s.lower()\n",
    "        result[s] = load_state(s)\n",
    "    \n",
    "    us_df = pd.concat(result.values())\n",
    "    us_df.to_pickle('./2020_election_data.pickle')\n",
    "finally:\n",
    "    print(f'Total: {len(us_df)}')\n",
    "    display(us_df.head())"
   ]
  },
  {
   "cell_type": "code",
   "execution_count": 5,
   "metadata": {
    "scrolled": true
   },
   "outputs": [
    {
     "data": {
      "text/html": [
       "<div>\n",
       "<style scoped>\n",
       "    .dataframe tbody tr th:only-of-type {\n",
       "        vertical-align: middle;\n",
       "    }\n",
       "\n",
       "    .dataframe tbody tr th {\n",
       "        vertical-align: top;\n",
       "    }\n",
       "\n",
       "    .dataframe thead th {\n",
       "        text-align: right;\n",
       "    }\n",
       "</style>\n",
       "<table border=\"1\" class=\"dataframe\">\n",
       "  <thead>\n",
       "    <tr style=\"text-align: right;\">\n",
       "      <th></th>\n",
       "      <th>County</th>\n",
       "      <th>Margin</th>\n",
       "      <th>2016 margin</th>\n",
       "      <th>Est. votes reported</th>\n",
       "      <th>Est. votes reported.1</th>\n",
       "      <th>Total votes</th>\n",
       "      <th>Absentee</th>\n",
       "      <th>State</th>\n",
       "      <th>District</th>\n",
       "      <th>Town</th>\n",
       "      <th>Parish</th>\n",
       "      <th>2020_Who</th>\n",
       "      <th>2020_Margin</th>\n",
       "      <th>2016_Who</th>\n",
       "      <th>2016_Margin</th>\n",
       "    </tr>\n",
       "  </thead>\n",
       "  <tbody>\n",
       "    <tr>\n",
       "      <th>4</th>\n",
       "      <td>Jefferson</td>\n",
       "      <td>Biden +13</td>\n",
       "      <td>D+7.3</td>\n",
       "      <td>&gt;98%</td>\n",
       "      <td>NaN</td>\n",
       "      <td>324675</td>\n",
       "      <td>—</td>\n",
       "      <td>alabama</td>\n",
       "      <td>NaN</td>\n",
       "      <td>NaN</td>\n",
       "      <td>NaN</td>\n",
       "      <td>D</td>\n",
       "      <td>13.0</td>\n",
       "      <td>D</td>\n",
       "      <td>7.3</td>\n",
       "    </tr>\n",
       "    <tr>\n",
       "      <th>5</th>\n",
       "      <td>Madison</td>\n",
       "      <td>Trump +8</td>\n",
       "      <td>R+16.3</td>\n",
       "      <td>&gt;98%</td>\n",
       "      <td>NaN</td>\n",
       "      <td>193955</td>\n",
       "      <td>—</td>\n",
       "      <td>alabama</td>\n",
       "      <td>NaN</td>\n",
       "      <td>NaN</td>\n",
       "      <td>NaN</td>\n",
       "      <td>R</td>\n",
       "      <td>8.0</td>\n",
       "      <td>R</td>\n",
       "      <td>16.3</td>\n",
       "    </tr>\n",
       "    <tr>\n",
       "      <th>0</th>\n",
       "      <td>Mobile</td>\n",
       "      <td>Trump +12</td>\n",
       "      <td>R+13.3</td>\n",
       "      <td>93%</td>\n",
       "      <td>NaN</td>\n",
       "      <td>181783</td>\n",
       "      <td>—</td>\n",
       "      <td>alabama</td>\n",
       "      <td>NaN</td>\n",
       "      <td>NaN</td>\n",
       "      <td>NaN</td>\n",
       "      <td>R</td>\n",
       "      <td>12.0</td>\n",
       "      <td>R</td>\n",
       "      <td>13.3</td>\n",
       "    </tr>\n",
       "    <tr>\n",
       "      <th>6</th>\n",
       "      <td>Shelby</td>\n",
       "      <td>Trump +41</td>\n",
       "      <td>R+49.4</td>\n",
       "      <td>&gt;98%</td>\n",
       "      <td>NaN</td>\n",
       "      <td>114439</td>\n",
       "      <td>—</td>\n",
       "      <td>alabama</td>\n",
       "      <td>NaN</td>\n",
       "      <td>NaN</td>\n",
       "      <td>NaN</td>\n",
       "      <td>R</td>\n",
       "      <td>41.0</td>\n",
       "      <td>R</td>\n",
       "      <td>49.4</td>\n",
       "    </tr>\n",
       "    <tr>\n",
       "      <th>7</th>\n",
       "      <td>Baldwin</td>\n",
       "      <td>Trump +54</td>\n",
       "      <td>R+57.2</td>\n",
       "      <td>&gt;98%</td>\n",
       "      <td>NaN</td>\n",
       "      <td>108945</td>\n",
       "      <td>—</td>\n",
       "      <td>alabama</td>\n",
       "      <td>NaN</td>\n",
       "      <td>NaN</td>\n",
       "      <td>NaN</td>\n",
       "      <td>R</td>\n",
       "      <td>54.0</td>\n",
       "      <td>R</td>\n",
       "      <td>57.2</td>\n",
       "    </tr>\n",
       "  </tbody>\n",
       "</table>\n",
       "</div>"
      ],
      "text/plain": [
       "      County     Margin 2016 margin Est. votes reported Est. votes reported.1  \\\n",
       "4  Jefferson  Biden +13       D+7.3                >98%                   NaN   \n",
       "5    Madison   Trump +8      R+16.3                >98%                   NaN   \n",
       "0     Mobile  Trump +12      R+13.3                 93%                   NaN   \n",
       "6     Shelby  Trump +41      R+49.4                >98%                   NaN   \n",
       "7    Baldwin  Trump +54      R+57.2                >98%                   NaN   \n",
       "\n",
       "   Total votes Absentee    State District Town Parish 2020_Who  2020_Margin  \\\n",
       "4       324675        —  alabama      NaN  NaN    NaN        D         13.0   \n",
       "5       193955        —  alabama      NaN  NaN    NaN        R          8.0   \n",
       "0       181783        —  alabama      NaN  NaN    NaN        R         12.0   \n",
       "6       114439        —  alabama      NaN  NaN    NaN        R         41.0   \n",
       "7       108945        —  alabama      NaN  NaN    NaN        R         54.0   \n",
       "\n",
       "  2016_Who  2016_Margin  \n",
       "4        D          7.3  \n",
       "5        R         16.3  \n",
       "0        R         13.3  \n",
       "6        R         49.4  \n",
       "7        R         57.2  "
      ]
     },
     "execution_count": 5,
     "metadata": {},
     "output_type": "execute_result"
    }
   ],
   "source": [
    "# assuming other parties are very minimal and won't affect the votes estimation\n",
    "us_df['2020_Who'] = np.where(us_df['Margin'].str.split('+', expand=True)[0].str.strip() == 'Biden','D','R')\n",
    "us_df['2020_Margin'] = pd.to_numeric(us_df['Margin'].str.split('+', expand=True)[1])\n",
    "us_df['2016_Who'] = us_df['2016 margin'].str.split('+', expand=True)[0].str.strip()\n",
    "us_df['2016_Margin'] = pd.to_numeric(us_df['2016 margin'].str.split('+', expand=True)[1])\n",
    "us_df.head()"
   ]
  },
  {
   "cell_type": "code",
   "execution_count": 6,
   "metadata": {},
   "outputs": [
    {
     "data": {
      "text/plain": [
       "array(['alaska', 'connecticut', 'maine', 'massachusetts', 'new-hampshire',\n",
       "       'rhode-island', 'vermont'], dtype=object)"
      ]
     },
     "execution_count": 6,
     "metadata": {},
     "output_type": "execute_result"
    }
   ],
   "source": [
    "us_df[us_df['2016_Who'].isnull()].State.unique()"
   ]
  },
  {
   "cell_type": "markdown",
   "metadata": {},
   "source": [
    "# Shifting to a different party"
   ]
  },
  {
   "cell_type": "code",
   "execution_count": 7,
   "metadata": {
    "scrolled": false
   },
   "outputs": [
    {
     "name": "stdout",
     "output_type": "stream",
     "text": [
      "% of the county shifted to a different party : 0.020374630299046993\n",
      "From R to D: 46, From D to R: 16\n",
      "------\n",
      "From R to D\n",
      "------\n",
      "len : 46\n",
      "Margin Percentile: \n",
      "0.25     4.625\n",
      "0.50     6.045\n",
      "0.75     9.075\n",
      "0.90    11.400\n",
      "0.95    11.725\n",
      "0.99    14.915\n",
      "dtype: float64\n",
      "States: ['arizona' 'california' 'colorado' 'florida' 'illinois' 'indiana' 'kansas'\n",
      " 'maryland' 'michigan' 'minnesota' 'mississippi' 'new-jersey'\n",
      " 'north-carolina' 'ohio' 'oregon' 'pennsylvania' 'texas' 'virginia'\n",
      " 'washington' 'wisconsin' 'wyoming']\n",
      "------\n",
      "From D to R\n",
      "------\n",
      "len : 16\n",
      "Margin Percentile: \n",
      "0.25     3.040\n",
      "0.50     6.050\n",
      "0.75     9.975\n",
      "0.90    17.550\n",
      "0.95    18.500\n",
      "0.99    19.940\n",
      "dtype: float64\n",
      "States: ['georgia' 'illinois' 'mississippi' 'new-york' 'north-carolina' 'ohio'\n",
      " 'south-carolina' 'texas']\n",
      "States that only move to D:\n"
     ]
    },
    {
     "data": {
      "text/plain": [
       "{'arizona',\n",
       " 'california',\n",
       " 'colorado',\n",
       " 'florida',\n",
       " 'indiana',\n",
       " 'kansas',\n",
       " 'maryland',\n",
       " 'michigan',\n",
       " 'minnesota',\n",
       " 'new-jersey',\n",
       " 'oregon',\n",
       " 'pennsylvania',\n",
       " 'virginia',\n",
       " 'washington',\n",
       " 'wisconsin',\n",
       " 'wyoming'}"
      ]
     },
     "metadata": {},
     "output_type": "display_data"
    },
    {
     "name": "stdout",
     "output_type": "stream",
     "text": [
      "States that only move to R:\n"
     ]
    },
    {
     "data": {
      "text/plain": [
       "{'georgia', 'new-york', 'south-carolina'}"
      ]
     },
     "metadata": {},
     "output_type": "display_data"
    }
   ],
   "source": [
    "vote_count_threshold = 10000\n",
    "has_2016_data = us_df[~us_df['2016_Who'].isnull()]\n",
    "shifted = has_2016_data.loc[lambda x: x['2020_Who'] != x['2016_Who']].loc[lambda x: x['Total votes'] > vote_count_threshold]\n",
    "#display(shifted)\n",
    "print(\"% of the county shifted to a different party : \" + str(len(shifted) / len(has_2016_data)))\n",
    "\n",
    "def print_q(df):\n",
    "    print('Margin Percentile: ')\n",
    "    print((df['2020_Margin'] + df['2016_Margin']).quantile([0.25, 0.5, 0.75, 0.9, 0.95, 0.99]))\n",
    "\n",
    "to_d = shifted.loc[lambda x: x['2020_Who'] == 'D']\n",
    "to_r = shifted.loc[lambda x: x['2020_Who'] == 'R']\n",
    "\n",
    "def against_df(msg, df):\n",
    "    print('------')\n",
    "    print(msg)\n",
    "    print('------')\n",
    "    print(f'len : {len(df)}')\n",
    "    print_q(df)\n",
    "    print(f'States: {df.State.unique()}')\n",
    "    \n",
    "print(f'From R to D: {len(to_d)}, From D to R: {len(to_r)}')\n",
    "\n",
    "against_df('From R to D', to_d)\n",
    "against_df('From D to R', to_r)\n",
    "\n",
    "print('States that only move to D:')\n",
    "display(set(to_d.State.unique()) - set(to_r.State.unique()))\n",
    "print('States that only move to R:')\n",
    "display(set(to_r.State.unique()) - set(to_d.State.unique()))"
   ]
  },
  {
   "cell_type": "markdown",
   "metadata": {},
   "source": [
    "# Margin correlation between 2020 and 2016"
   ]
  },
  {
   "cell_type": "code",
   "execution_count": 8,
   "metadata": {},
   "outputs": [
    {
     "data": {
      "text/html": [
       "<div>\n",
       "<style scoped>\n",
       "    .dataframe tbody tr th:only-of-type {\n",
       "        vertical-align: middle;\n",
       "    }\n",
       "\n",
       "    .dataframe tbody tr th {\n",
       "        vertical-align: top;\n",
       "    }\n",
       "\n",
       "    .dataframe thead th {\n",
       "        text-align: right;\n",
       "    }\n",
       "</style>\n",
       "<table border=\"1\" class=\"dataframe\">\n",
       "  <thead>\n",
       "    <tr style=\"text-align: right;\">\n",
       "      <th></th>\n",
       "      <th>2020_Margin</th>\n",
       "      <th>2016_Margin</th>\n",
       "    </tr>\n",
       "  </thead>\n",
       "  <tbody>\n",
       "    <tr>\n",
       "      <th>2020_Margin</th>\n",
       "      <td>1.000000</td>\n",
       "      <td>0.969486</td>\n",
       "    </tr>\n",
       "    <tr>\n",
       "      <th>2016_Margin</th>\n",
       "      <td>0.969486</td>\n",
       "      <td>1.000000</td>\n",
       "    </tr>\n",
       "  </tbody>\n",
       "</table>\n",
       "</div>"
      ],
      "text/plain": [
       "             2020_Margin  2016_Margin\n",
       "2020_Margin     1.000000     0.969486\n",
       "2016_Margin     0.969486     1.000000"
      ]
     },
     "execution_count": 8,
     "metadata": {},
     "output_type": "execute_result"
    }
   ],
   "source": [
    "has_2016_data[['2020_Margin', '2016_Margin']].corr()"
   ]
  },
  {
   "cell_type": "code",
   "execution_count": 9,
   "metadata": {},
   "outputs": [
    {
     "data": {
      "text/html": [
       "<div>\n",
       "<style scoped>\n",
       "    .dataframe tbody tr th:only-of-type {\n",
       "        vertical-align: middle;\n",
       "    }\n",
       "\n",
       "    .dataframe tbody tr th {\n",
       "        vertical-align: top;\n",
       "    }\n",
       "\n",
       "    .dataframe thead th {\n",
       "        text-align: right;\n",
       "    }\n",
       "</style>\n",
       "<table border=\"1\" class=\"dataframe\">\n",
       "  <thead>\n",
       "    <tr style=\"text-align: right;\">\n",
       "      <th></th>\n",
       "      <th>Total votes</th>\n",
       "      <th>2020_Margin</th>\n",
       "      <th>2016_Margin</th>\n",
       "    </tr>\n",
       "  </thead>\n",
       "  <tbody>\n",
       "    <tr>\n",
       "      <th>Total votes</th>\n",
       "      <td>1.000000</td>\n",
       "      <td>-0.173456</td>\n",
       "      <td>-0.167907</td>\n",
       "    </tr>\n",
       "    <tr>\n",
       "      <th>2020_Margin</th>\n",
       "      <td>-0.173456</td>\n",
       "      <td>1.000000</td>\n",
       "      <td>0.965652</td>\n",
       "    </tr>\n",
       "    <tr>\n",
       "      <th>2016_Margin</th>\n",
       "      <td>-0.167907</td>\n",
       "      <td>0.965652</td>\n",
       "      <td>1.000000</td>\n",
       "    </tr>\n",
       "  </tbody>\n",
       "</table>\n",
       "</div>"
      ],
      "text/plain": [
       "             Total votes  2020_Margin  2016_Margin\n",
       "Total votes     1.000000    -0.173456    -0.167907\n",
       "2020_Margin    -0.173456     1.000000     0.965652\n",
       "2016_Margin    -0.167907     0.965652     1.000000"
      ]
     },
     "execution_count": 9,
     "metadata": {},
     "output_type": "execute_result"
    }
   ],
   "source": [
    "# ignore small counties\n",
    "has_2016_data.loc[lambda x: x['Total votes'] > 5000].corr()"
   ]
  },
  {
   "cell_type": "markdown",
   "metadata": {},
   "source": [
    "# Benford's Law"
   ]
  },
  {
   "cell_type": "code",
   "execution_count": 10,
   "metadata": {},
   "outputs": [
    {
     "data": {
      "text/html": [
       "<div>\n",
       "<style scoped>\n",
       "    .dataframe tbody tr th:only-of-type {\n",
       "        vertical-align: middle;\n",
       "    }\n",
       "\n",
       "    .dataframe tbody tr th {\n",
       "        vertical-align: top;\n",
       "    }\n",
       "\n",
       "    .dataframe thead th {\n",
       "        text-align: right;\n",
       "    }\n",
       "</style>\n",
       "<table border=\"1\" class=\"dataframe\">\n",
       "  <thead>\n",
       "    <tr style=\"text-align: right;\">\n",
       "      <th></th>\n",
       "      <th>State</th>\n",
       "      <th>Total votes</th>\n",
       "      <th>2020_Who</th>\n",
       "      <th>2020_Margin</th>\n",
       "      <th>BidenVotes</th>\n",
       "      <th>TrumpVotes</th>\n",
       "      <th>BidenVotesLeadingDig</th>\n",
       "      <th>TrumpVotesLeadingDig</th>\n",
       "    </tr>\n",
       "  </thead>\n",
       "  <tbody>\n",
       "    <tr>\n",
       "      <th>4</th>\n",
       "      <td>alabama</td>\n",
       "      <td>324675</td>\n",
       "      <td>D</td>\n",
       "      <td>13.0</td>\n",
       "      <td>183441</td>\n",
       "      <td>141234</td>\n",
       "      <td>1</td>\n",
       "      <td>1</td>\n",
       "    </tr>\n",
       "    <tr>\n",
       "      <th>5</th>\n",
       "      <td>alabama</td>\n",
       "      <td>193955</td>\n",
       "      <td>R</td>\n",
       "      <td>8.0</td>\n",
       "      <td>89219</td>\n",
       "      <td>104736</td>\n",
       "      <td>8</td>\n",
       "      <td>1</td>\n",
       "    </tr>\n",
       "    <tr>\n",
       "      <th>0</th>\n",
       "      <td>alabama</td>\n",
       "      <td>181783</td>\n",
       "      <td>R</td>\n",
       "      <td>12.0</td>\n",
       "      <td>79984</td>\n",
       "      <td>101799</td>\n",
       "      <td>7</td>\n",
       "      <td>1</td>\n",
       "    </tr>\n",
       "    <tr>\n",
       "      <th>6</th>\n",
       "      <td>alabama</td>\n",
       "      <td>114439</td>\n",
       "      <td>R</td>\n",
       "      <td>41.0</td>\n",
       "      <td>33759</td>\n",
       "      <td>80680</td>\n",
       "      <td>3</td>\n",
       "      <td>8</td>\n",
       "    </tr>\n",
       "    <tr>\n",
       "      <th>7</th>\n",
       "      <td>alabama</td>\n",
       "      <td>108945</td>\n",
       "      <td>R</td>\n",
       "      <td>54.0</td>\n",
       "      <td>25057</td>\n",
       "      <td>83888</td>\n",
       "      <td>2</td>\n",
       "      <td>8</td>\n",
       "    </tr>\n",
       "  </tbody>\n",
       "</table>\n",
       "</div>"
      ],
      "text/plain": [
       "     State  Total votes 2020_Who  2020_Margin  BidenVotes  TrumpVotes  \\\n",
       "4  alabama       324675        D         13.0      183441      141234   \n",
       "5  alabama       193955        R          8.0       89219      104736   \n",
       "0  alabama       181783        R         12.0       79984      101799   \n",
       "6  alabama       114439        R         41.0       33759       80680   \n",
       "7  alabama       108945        R         54.0       25057       83888   \n",
       "\n",
       "  BidenVotesLeadingDig TrumpVotesLeadingDig  \n",
       "4                    1                    1  \n",
       "5                    8                    1  \n",
       "0                    7                    1  \n",
       "6                    3                    8  \n",
       "7                    2                    8  "
      ]
     },
     "metadata": {},
     "output_type": "display_data"
    }
   ],
   "source": [
    "# use margin to estimate the vote count, this isn't accurate as other parties \n",
    "# also has a margin of the total votes, but shouldn't be a big ammount\n",
    "ben_df = pd.DataFrame(us_df[['State', 'Total votes', '2020_Who', '2020_Margin']]\\\n",
    "                      .loc[lambda x: ~x['2020_Margin'].isnull()])\n",
    "ben_df['BidenVotes'] = np.where(\n",
    "    ben_df['2020_Who'] == 'D',\n",
    "    ben_df['Total votes'] * ((100 + ben_df['2020_Margin']) / 200),\n",
    "    ben_df['Total votes'] * ((100 - ben_df['2020_Margin']) / 200)\n",
    ").astype(int)\n",
    "ben_df['TrumpVotes'] = ben_df['Total votes'] - ben_df['BidenVotes']\n",
    "ben_df['BidenVotesLeadingDig'] = ben_df['BidenVotes'].astype(str).str[0]\n",
    "ben_df['TrumpVotesLeadingDig'] = ben_df['TrumpVotes'].astype(str).str[0]\n",
    "display(ben_df.head())"
   ]
  },
  {
   "cell_type": "code",
   "execution_count": 11,
   "metadata": {},
   "outputs": [
    {
     "data": {
      "text/plain": [
       "1    0.301\n",
       "2    0.176\n",
       "3    0.125\n",
       "4    0.097\n",
       "5    0.079\n",
       "6    0.067\n",
       "7    0.058\n",
       "8    0.051\n",
       "9    0.046\n",
       "Name: In Benford's law, dtype: float64"
      ]
     },
     "execution_count": 11,
     "metadata": {},
     "output_type": "execute_result"
    }
   ],
   "source": [
    "dfs = pd.read_html('https://en.wikipedia.org/wiki/Benford%27s_law')\n",
    "exp_ben = dfs[4][\"In Benford's law\"][\"In Benford's law\"].str.replace('%','').astype(float) / 100\n",
    "exp_ben.index = exp_ben.index + 1\n",
    "exp_ben"
   ]
  },
  {
   "cell_type": "code",
   "execution_count": 12,
   "metadata": {},
   "outputs": [
    {
     "data": {
      "text/html": [
       "<div>\n",
       "<style scoped>\n",
       "    .dataframe tbody tr th:only-of-type {\n",
       "        vertical-align: middle;\n",
       "    }\n",
       "\n",
       "    .dataframe tbody tr th {\n",
       "        vertical-align: top;\n",
       "    }\n",
       "\n",
       "    .dataframe thead th {\n",
       "        text-align: right;\n",
       "    }\n",
       "</style>\n",
       "<table border=\"1\" class=\"dataframe\">\n",
       "  <thead>\n",
       "    <tr style=\"text-align: right;\">\n",
       "      <th></th>\n",
       "      <th>BenExp</th>\n",
       "      <th>Biden</th>\n",
       "      <th>Trump</th>\n",
       "    </tr>\n",
       "    <tr>\n",
       "      <th>LeadingDigit</th>\n",
       "      <th></th>\n",
       "      <th></th>\n",
       "      <th></th>\n",
       "    </tr>\n",
       "  </thead>\n",
       "  <tbody>\n",
       "    <tr>\n",
       "      <th>1</th>\n",
       "      <td>0.301</td>\n",
       "      <td>0.286996</td>\n",
       "      <td>0.286771</td>\n",
       "    </tr>\n",
       "    <tr>\n",
       "      <th>2</th>\n",
       "      <td>0.176</td>\n",
       "      <td>0.184081</td>\n",
       "      <td>0.169283</td>\n",
       "    </tr>\n",
       "    <tr>\n",
       "      <th>3</th>\n",
       "      <td>0.125</td>\n",
       "      <td>0.124664</td>\n",
       "      <td>0.123094</td>\n",
       "    </tr>\n",
       "    <tr>\n",
       "      <th>4</th>\n",
       "      <td>0.097</td>\n",
       "      <td>0.109641</td>\n",
       "      <td>0.105605</td>\n",
       "    </tr>\n",
       "    <tr>\n",
       "      <th>5</th>\n",
       "      <td>0.079</td>\n",
       "      <td>0.070179</td>\n",
       "      <td>0.087668</td>\n",
       "    </tr>\n",
       "    <tr>\n",
       "      <th>6</th>\n",
       "      <td>0.067</td>\n",
       "      <td>0.068161</td>\n",
       "      <td>0.067937</td>\n",
       "    </tr>\n",
       "    <tr>\n",
       "      <th>7</th>\n",
       "      <td>0.058</td>\n",
       "      <td>0.057848</td>\n",
       "      <td>0.056278</td>\n",
       "    </tr>\n",
       "    <tr>\n",
       "      <th>8</th>\n",
       "      <td>0.051</td>\n",
       "      <td>0.046188</td>\n",
       "      <td>0.057848</td>\n",
       "    </tr>\n",
       "    <tr>\n",
       "      <th>9</th>\n",
       "      <td>0.046</td>\n",
       "      <td>0.052242</td>\n",
       "      <td>0.045291</td>\n",
       "    </tr>\n",
       "  </tbody>\n",
       "</table>\n",
       "</div>"
      ],
      "text/plain": [
       "              BenExp     Biden     Trump\n",
       "LeadingDigit                            \n",
       "1              0.301  0.286996  0.286771\n",
       "2              0.176  0.184081  0.169283\n",
       "3              0.125  0.124664  0.123094\n",
       "4              0.097  0.109641  0.105605\n",
       "5              0.079  0.070179  0.087668\n",
       "6              0.067  0.068161  0.067937\n",
       "7              0.058  0.057848  0.056278\n",
       "8              0.051  0.046188  0.057848\n",
       "9              0.046  0.052242  0.045291"
      ]
     },
     "execution_count": 12,
     "metadata": {},
     "output_type": "execute_result"
    }
   ],
   "source": [
    "final_ben_df = pd.DataFrame({\n",
    "    'LeadingDigit' : range(1, 10),\n",
    "    \n",
    "    'BenExp': list(exp_ben),\n",
    "    \n",
    "    'Biden' :  ben_df.groupby('BidenVotesLeadingDig').BidenVotesLeadingDig.count() / len(ben_df),\n",
    "    \n",
    "    # YES, there exists one county in NH with total 5 votes that all going to Biden :-)\n",
    "    'Trump' :  ben_df.loc[ben_df['TrumpVotesLeadingDig'] != '0']\\\n",
    "        .groupby('TrumpVotesLeadingDig').BidenVotesLeadingDig.count() / len(ben_df),\n",
    "})\n",
    "final_ben_df.index = final_ben_df['LeadingDigit']\n",
    "del final_ben_df['LeadingDigit']\n",
    "final_ben_df"
   ]
  },
  {
   "cell_type": "code",
   "execution_count": 13,
   "metadata": {},
   "outputs": [
    {
     "data": {
      "text/plain": [
       "<AxesSubplot:xlabel='LeadingDigit'>"
      ]
     },
     "execution_count": 13,
     "metadata": {},
     "output_type": "execute_result"
    },
    {
     "data": {
      "image/png": "[encoded data removed]",
      "text/plain": [
       "<Figure size 432x288 with 1 Axes>"
      ]
     },
     "metadata": {
      "needs_background": "light"
     },
     "output_type": "display_data"
    }
   ],
   "source": [
    "final_ben_df.plot()"
   ]
  }
 ],
 "metadata": {
  "kernelspec": {
   "display_name": "Python 3",
   "language": "python",
   "name": "python3"
  },
  "language_info": {
   "codemirror_mode": {
    "name": "ipython",
    "version": 3
   },
   "file_extension": ".py",
   "mimetype": "text/x-python",
   "name": "python",
   "nbconvert_exporter": "python",
   "pygments_lexer": "ipython3",
   "version": "3.8.6"
  }
 },
 "nbformat": 4,
 "nbformat_minor": 4
}
